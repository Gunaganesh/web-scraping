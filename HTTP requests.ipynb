{
 "cells": [
  {
   "cell_type": "code",
   "execution_count": 2,
   "metadata": {},
   "outputs": [
    {
     "name": "stdout",
     "output_type": "stream",
     "text": [
      "200\n",
      "OK\n",
      "{'Date': 'Sun, 14 Feb 2021 07:37:56 GMT', 'Server': 'Apache/2.4.41 (Ubuntu)', 'Keep-Alive': 'timeout=5, max=100', 'Content-Type': 'text/html; charset=UTF-8', 'Accept-Ranges': 'none', 'Content-Length': '21', 'Via': 'HTTP/1.1 forward.http.proxy:3128', 'Connection': 'keep-alive'}\n"
     ]
    }
   ],
   "source": [
    "import requests\n",
    "url = 'http://www.webscrapingfordatascience.com/basichttp/'\n",
    "r = requests.get(url)\n",
    "# Which HTTP status code did we get back from the server?\n",
    "print(r.status_code)\n",
    "# What is the textual status code?\n",
    "print(r.reason)\n",
    "# What were the HTTP response headers?\n",
    "print(r.headers)"
   ]
  },
  {
   "cell_type": "code",
   "execution_count": null,
   "metadata": {},
   "outputs": [],
   "source": []
  },
  {
   "cell_type": "code",
   "execution_count": 3,
   "metadata": {},
   "outputs": [
    {
     "name": "stdout",
     "output_type": "stream",
     "text": [
      "<PreparedRequest [GET]>\n",
      "{'User-Agent': 'python-requests/2.24.0', 'Accept-Encoding': 'gzip, deflate', 'Accept': '*/*', 'Connection': 'keep-alive'}\n",
      "Hello from the web!\r\n",
      "\n"
     ]
    }
   ],
   "source": [
    "# The request information is saved as a Python object in r.request:\n",
    "print(r.request)\n",
    "# What were the HTTP request headers?\n",
    "print(r.request.headers)\n",
    "# The HTTP response content:\n",
    "print(r.text)"
   ]
  },
  {
   "cell_type": "code",
   "execution_count": 4,
   "metadata": {},
   "outputs": [
    {
     "name": "stdout",
     "output_type": "stream",
     "text": [
      "I don't have any information on \"test\"\n"
     ]
    }
   ],
   "source": [
    "#how to deal with URL parameters in requests\n",
    "import requests\n",
    "url = 'http://www.webscrapingfordatascience.com/paramhttp/?query=test'\n",
    "r = requests.get(url)\n",
    "print(r.text)"
   ]
  },
  {
   "cell_type": "code",
   "execution_count": 8,
   "metadata": {},
   "outputs": [
    {
     "name": "stdout",
     "output_type": "stream",
     "text": [
      "http://www.webscrapingfordatascience.com/paramhttp/?query=a%20query%20with%20spaces\n",
      "I don't have any information on \"a query with spaces\"\n"
     ]
    }
   ],
   "source": [
    "# Encoded with information\n",
    "\n",
    "import requests\n",
    "url = 'http://www.webscrapingfordatascience.com/paramhttp/?query=a query with spaces'\n",
    "r = requests.get(url)\n",
    "# Parameter will be encoded as 'a%20query%20with%20spaces'\n",
    "# You can verify this be looking at the prepared request URL:\n",
    "print(r.request.url)\n",
    "# Will show [...]/paramhttp/?query=a%20query%20with%20spaces\n",
    "print(r.text)"
   ]
  },
  {
   "cell_type": "code",
   "execution_count": 9,
   "metadata": {},
   "outputs": [
    {
     "name": "stdout",
     "output_type": "stream",
     "text": [
      "a%20query%20with%20/%2C%20spaces%20and%3F%26\n",
      "a+query+with+%2F%2C+spaces+and%3F%26\n"
     ]
    }
   ],
   "source": [
    "import requests\n",
    "from urllib.parse import quote, quote_plus\n",
    "raw_string = 'a query with /, spaces and?&'\n",
    "print(quote(raw_string))\n",
    "print(quote_plus(raw_string))\n"
   ]
  },
  {
   "cell_type": "code",
   "execution_count": 11,
   "metadata": {},
   "outputs": [
    {
     "name": "stdout",
     "output_type": "stream",
     "text": [
      "24\n",
      "0.66666666666667\n"
     ]
    }
   ],
   "source": [
    "#URL Parameters used for calculation\n",
    "\n",
    "import requests\n",
    "def calc(a, b, op):\n",
    " url = 'http://www.webscrapingfordatascience.com/calchttp/'\n",
    " params = {'a': a, 'b': b, 'op': op}\n",
    " r = requests.get(url, params=params)\n",
    " return r.text\n",
    "print(calc(4, 6, '*'))\n",
    "print(calc(4, 6, '/'))"
   ]
  },
  {
   "cell_type": "code",
   "execution_count": null,
   "metadata": {},
   "outputs": [],
   "source": []
  }
 ],
 "metadata": {
  "kernelspec": {
   "display_name": "Python 3",
   "language": "python",
   "name": "python3"
  },
  "language_info": {
   "codemirror_mode": {
    "name": "ipython",
    "version": 3
   },
   "file_extension": ".py",
   "mimetype": "text/x-python",
   "name": "python",
   "nbconvert_exporter": "python",
   "pygments_lexer": "ipython3",
   "version": "3.8.5"
  }
 },
 "nbformat": 4,
 "nbformat_minor": 4
}
