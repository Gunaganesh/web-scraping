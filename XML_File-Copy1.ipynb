{
 "cells": [
  {
   "cell_type": "code",
   "execution_count": 33,
   "metadata": {},
   "outputs": [
    {
     "data": {
      "text/plain": [
       "'C:\\\\Users\\\\karthikeyan\\\\Documents\\\\s1.xml'"
      ]
     },
     "execution_count": 33,
     "metadata": {},
     "output_type": "execute_result"
    }
   ],
   "source": [
    "# To find the path of the file\n",
    "import os\n",
    "from xml.etree import ElementTree\n",
    "file = 's1.xml'\n",
    "xml_file = os.path.abspath(os.path.join('Documents',file))\n",
    "dom = ElementTree.parse(xml_file)\n",
    "xml_file\n",
    "\n"
   ]
  },
  {
   "cell_type": "code",
   "execution_count": 37,
   "metadata": {},
   "outputs": [
    {
     "data": {
      "text/plain": [
       "<Element 'Circular' at 0x0000019234708D10>"
      ]
     },
     "execution_count": 37,
     "metadata": {},
     "output_type": "execute_result"
    }
   ],
   "source": [
    "# To Get root from XML file\n",
    "import xml.etree.ElementTree as ET\n",
    "tree = ET.parse('C:\\\\Users\\\\karthikeyan\\\\Documents\\\\s1.xml')\n",
    "root = tree.getroot()\n",
    "root"
   ]
  },
  {
   "cell_type": "code",
   "execution_count": 35,
   "metadata": {},
   "outputs": [
    {
     "data": {
      "text/plain": [
       "'Circular'"
      ]
     },
     "execution_count": 35,
     "metadata": {},
     "output_type": "execute_result"
    }
   ],
   "source": [
    "root.tag"
   ]
  },
  {
   "cell_type": "code",
   "execution_count": 15,
   "metadata": {},
   "outputs": [
    {
     "data": {
      "text/plain": [
       "{}"
      ]
     },
     "execution_count": 15,
     "metadata": {},
     "output_type": "execute_result"
    }
   ],
   "source": [
    "root.attrib"
   ]
  },
  {
   "cell_type": "code",
   "execution_count": 38,
   "metadata": {},
   "outputs": [
    {
     "name": "stdout",
     "output_type": "stream",
     "text": [
      "from {}\n",
      "to {}\n",
      "info {}\n",
      "info1 {}\n"
     ]
    }
   ],
   "source": [
    "for child in root:\n",
    "    print(child.tag, child.attrib)"
   ]
  },
  {
   "cell_type": "code",
   "execution_count": 1,
   "metadata": {},
   "outputs": [
    {
     "name": "stdout",
     "output_type": "stream",
     "text": [
      "metadata\n"
     ]
    }
   ],
   "source": [
    "# Using fromstring() function: How to import XML file?\n",
    "import xml.etree.ElementTree as ET\n",
    "data='''<?xml version=\"1.0\" encoding=\"UTF-8\"?>\n",
    "<metadata>\n",
    "<food>\n",
    " <item name=\"breakfast\">Idly</item>\n",
    " <price>$2.5</price>\n",
    " <description>\n",
    " Two idly's with chutney\n",
    " </description>\n",
    " <calories>553</calories>\n",
    "</food>\n",
    "</metadata>\n",
    "'''\n",
    "myroot = ET.fromstring(data)\n",
    "#print(myroot)\n",
    "print(myroot.tag)"
   ]
  },
  {
   "cell_type": "code",
   "execution_count": 5,
   "metadata": {},
   "outputs": [
    {
     "name": "stdout",
     "output_type": "stream",
     "text": [
      "meta\n"
     ]
    }
   ],
   "source": [
    "print(myroot.tag[0:4])"
   ]
  },
  {
   "cell_type": "code",
   "execution_count": 10,
   "metadata": {},
   "outputs": [
    {
     "name": "stdout",
     "output_type": "stream",
     "text": [
      "item {'name': 'breakfast'}\n",
      "price {}\n",
      "description {}\n",
      "calories {}\n"
     ]
    }
   ],
   "source": [
    "# if you want to retrieve all first-child tags of the root, you can iterate over it using the for loop as follows:\n",
    "\n",
    "for x in myroot[0]:\n",
    "     print(x.tag, x.attrib)"
   ]
  },
  {
   "cell_type": "code",
   "execution_count": 32,
   "metadata": {},
   "outputs": [
    {
     "name": "stdout",
     "output_type": "stream",
     "text": [
      "Idly\n",
      "$2.5\n",
      "\n",
      " Two idly's with chutney\n",
      " \n",
      "553\n"
     ]
    }
   ],
   "source": [
    "# to retrieve all the information about the first food item\n",
    "\n",
    "for x in myroot[0]:\n",
    "        print(x.text)"
   ]
  },
  {
   "cell_type": "code",
   "execution_count": 11,
   "metadata": {},
   "outputs": [
    {
     "name": "stdout",
     "output_type": "stream",
     "text": [
      "Idly $2.5\n",
      "Pongal $5.0\n"
     ]
    }
   ],
   "source": [
    "# to display all the items with their particular price,\n",
    "for x in myroot.findall('food'):\n",
    "    item =x.find('item').text\n",
    "    price = x.find('price').text\n",
    "    print(item, price)"
   ]
  },
  {
   "cell_type": "code",
   "execution_count": null,
   "metadata": {},
   "outputs": [],
   "source": []
  }
 ],
 "metadata": {
  "kernelspec": {
   "display_name": "Python 3",
   "language": "python",
   "name": "python3"
  },
  "language_info": {
   "codemirror_mode": {
    "name": "ipython",
    "version": 3
   },
   "file_extension": ".py",
   "mimetype": "text/x-python",
   "name": "python",
   "nbconvert_exporter": "python",
   "pygments_lexer": "ipython3",
   "version": "3.8.5"
  }
 },
 "nbformat": 4,
 "nbformat_minor": 4
}
